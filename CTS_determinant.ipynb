{
 "cells": [
  {
   "cell_type": "code",
   "execution_count": 35,
   "metadata": {},
   "outputs": [],
   "source": [
    "#import modules\n",
    "import matplotlib.pyplot as plt, numpy as np\n",
    "from datetime import datetime\n",
    "import GUI"
   ]
  },
  {
   "cell_type": "code",
   "execution_count": 36,
   "metadata": {},
   "outputs": [],
   "source": [
    "#constants:\n",
    "\n",
    "HOME = 'G28'        #this is a custom saved location\n",
    "positioning = 'G90' #absolute positioning\n",
    "units = 'G21'       #everything using mm\n",
    "\n",
    "#settings:\n",
    "material = 'PCL'    #purely informational, does not affect printer function\n",
    "printer = 'Voron'   #purely informational\n",
    "nozzle_temp = 230   #C probably depends on material...\n",
    "bed_temp = 35       #C sometimes will get stuck if above 40\n",
    "\n",
    "#platform limits(be aware that it could go over if inaccurate)\n",
    "x_max = 120     #mm\n",
    "y_max = 120     #mm\n",
    "\n",
    "#Line Settings: How wide and tall for the box of lines: in mm\n",
    "product_width = 50  #mm SHOULD NOT BE GREATER THAN X_MAX\n",
    "product_height = 50 #mm SHOULD NOT BE GREATER THAN Y_MAX\n",
    "num_groups = 4     #number of line groups - consecutive lines made with same speed\n",
    "line_per_group = 3  #mm gap between lines of the same line group\n",
    "ratio_of_dxgroup_dxline = 2 #ratio between distance between lines and distance between groups of lines so dxg/dxl\n",
    "\n",
    "#for incrementing pts only:\n",
    "pts_per_line = 5    #mm Choose 1mm if you want each whole line representing one speed.\n",
    "\n",
    "#testing all feeding speeds within range:\n",
    "nozzle_v_min = 1      #mm/min\n",
    "nozzle_v_max = 8       #mm/min\n",
    "\n",
    "velocity_of_nozzle = 400    #mm^2/min\n",
    "bed_dist = 0.5  #mm"
   ]
  },
  {
   "cell_type": "markdown",
   "metadata": {},
   "source": []
  },
  {
   "cell_type": "code",
   "execution_count": 37,
   "metadata": {},
   "outputs": [
    {
     "name": "stdout",
     "output_type": "stream",
     "text": [
      "\u001b[2J\n",
      "Not Using Collagen!\n",
      "Entered number: 2.0\n",
      "Entered number: 7.0\n",
      "Entered number: 1.0\n",
      "Entered number: 8.0\n",
      "Entered number: 10.0\n",
      "Entered number: 0.5\n",
      "Entered number: 0.5\n",
      "Entered number: 200.0\n",
      "[2.0, 7.0, 1.0, 8.0, 10.0, 0.5, 0.5, 200.0]\n",
      "Uploading!\n"
     ]
    }
   ],
   "source": [
    "#trigger GUI\n",
    "try:\n",
    "    product_width, product_height, num_groups, line_per_group, pts_per_line, nozzle_v_min, nozzle_v_max, velocity_of_nozzle  = GUI.run_GUI()\n",
    "except ValueError:\n",
    "    print(\"Input Invalid: Settings not Saved\")"
   ]
  },
  {
   "cell_type": "code",
   "execution_count": 38,
   "metadata": {},
   "outputs": [
    {
     "name": "stdout",
     "output_type": "stream",
     "text": [
      "0.2857142857142857\n",
      "0.5714285714285714\n"
     ]
    }
   ],
   "source": [
    "#Calculations:\n",
    "dx_line = product_width/(num_groups*(line_per_group-1)+ratio_of_dxgroup_dxline*(num_groups-1))\n",
    "print(dx_line)\n",
    "dx_group = dx_line*ratio_of_dxgroup_dxline\n",
    "print(dx_group)\n",
    "nozzle_dv = (nozzle_v_max-nozzle_v_min)/num_groups   #mm/s"
   ]
  },
  {
   "cell_type": "code",
   "execution_count": 39,
   "metadata": {},
   "outputs": [
    {
     "name": "stdout",
     "output_type": "stream",
     "text": [
      "[[10.         10.        ]\n",
      " [10.         17.        ]\n",
      " [10.28571429 17.        ]\n",
      " [10.28571429 10.        ]\n",
      " [10.57142857 10.        ]\n",
      " [10.57142857 17.        ]\n",
      " [10.85714286 17.        ]\n",
      " [10.85714286 10.        ]\n",
      " [11.14285714 10.        ]\n",
      " [11.14285714 17.        ]\n",
      " [11.42857143 17.        ]\n",
      " [11.42857143 10.        ]\n",
      " [11.71428571 10.        ]\n",
      " [11.71428571 17.        ]\n",
      " [12.         17.        ]\n",
      " [12.         10.        ]]\n",
      "16\n"
     ]
    }
   ],
   "source": [
    "#Coordinate plotting:\n",
    "input_coordinate = []\n",
    "\n",
    "#Get beginning location: gotta find it\n",
    "\n",
    "#use for nxn product\n",
    "def get_coordinate_init_centered():\n",
    "    #always want the product to be centered, cannot go beyond the limit\n",
    "    coord_init = np.array([x_max-product_width,y_max-product_height])/2\n",
    "    return coord_init\n",
    "    \n",
    "#use for all else\n",
    "def get_coordinate_init_cornered():\n",
    "    #will just be lower left corner\n",
    "    return [10,10]\n",
    "\n",
    "if(product_width == product_height):coord_init = get_coordinate_init_centered()\n",
    "else: coord_init = get_coordinate_init_cornered()\n",
    "\n",
    "#generate rough lines, then can populate new coordinate list with linspaced points for increments\n",
    "\n",
    "def find_next_pt(input, viable_opt):\n",
    "    if(input == viable_opt[0]):\n",
    "        return viable_opt[1]\n",
    "    return viable_opt[0]\n",
    "\n",
    "#generating lines w/out increment:\n",
    "input_coordinate.append(coord_init)\n",
    "for group in range(int(num_groups)):\n",
    "    options = [coord_init[1], coord_init[1]+product_height]\n",
    "    for line in range(int(line_per_group)):\n",
    "        \n",
    "        current_x = (input_coordinate[-1])[0]\n",
    "        current_y = (input_coordinate[-1])[1]\n",
    "        next_pt = [current_x,find_next_pt(current_y,options)]\n",
    "        input_coordinate.append(next_pt)\n",
    "        \n",
    "        if line != line_per_group-1:\n",
    "            current_x = (input_coordinate[-1])[0]\n",
    "            current_y = (input_coordinate[-1])[1]\n",
    "            next_pt = [current_x+dx_line, current_y]\n",
    "            input_coordinate.append(next_pt)\n",
    "        \n",
    "    current_x = (input_coordinate[-1])[0]\n",
    "    current_y = (input_coordinate[-1])[1]\n",
    "    if group != num_groups-1:\n",
    "        input_coordinate.append([current_x+dx_group,current_y])\n",
    "\n",
    "input_coordinate = np.array(input_coordinate)\n",
    "print(input_coordinate)\n",
    "print(len(input_coordinate))"
   ]
  },
  {
   "cell_type": "code",
   "execution_count": 40,
   "metadata": {},
   "outputs": [
    {
     "data": {
      "text/plain": [
       "Text(0.5, 1.0, 'vector form')"
      ]
     },
     "execution_count": 40,
     "metadata": {},
     "output_type": "execute_result"
    },
    {
     "data": {
      "image/png": "[encoded data removed]",
      "text/plain": [
       "<Figure size 640x480 with 1 Axes>"
      ]
     },
     "metadata": {},
     "output_type": "display_data"
    }
   ],
   "source": [
    "#graph points\n",
    "plt.scatter(input_coordinate[0][0],input_coordinate[0][1])\n",
    "x = input_coordinate[:,0]\n",
    "y = input_coordinate[:,1]\n",
    "plt.xlim(0,120)\n",
    "plt.ylim(0,120)\n",
    "plt.plot(x,y)\n",
    "plt.scatter(x,y, s=2)\n",
    "plt.title(\"vector form\")"
   ]
  },
  {
   "cell_type": "code",
   "execution_count": 41,
   "metadata": {},
   "outputs": [
    {
     "name": "stdout",
     "output_type": "stream",
     "text": [
      "Pts: 150\n"
     ]
    }
   ],
   "source": [
    "#incrementize coordinates:\n",
    "spliced_coordinate = np.array([coord_init])\n",
    "\n",
    "def splice_vector_into_pts(xy_init, xy_final, pts_per_line):\n",
    "    result = np.linspace(xy_init,xy_final,pts_per_line)\n",
    "    return result\n",
    "\n",
    "for set in range(len(input_coordinate)-1):\n",
    "    spliced_vector = splice_vector_into_pts(input_coordinate[set],input_coordinate[set+1],int(pts_per_line))\n",
    "    spliced_coordinate = np.concatenate((spliced_coordinate,spliced_vector),axis=0)\n",
    "\n",
    "spliced_coordinate = np.delete(spliced_coordinate,0,0)\n",
    "\n",
    "#print(spliced_coordinate)\n",
    "print(f\"Pts: {len(spliced_coordinate)}\")"
   ]
  },
  {
   "cell_type": "code",
   "execution_count": 42,
   "metadata": {},
   "outputs": [
    {
     "data": {
      "text/plain": [
       "Text(0.5, 1.0, 'spliced')"
      ]
     },
     "execution_count": 42,
     "metadata": {},
     "output_type": "execute_result"
    },
    {
     "data": {
      "image/png": "[encoded data removed]",
      "text/plain": [
       "<Figure size 640x480 with 1 Axes>"
      ]
     },
     "metadata": {},
     "output_type": "display_data"
    }
   ],
   "source": [
    "#graph points of splice (should look the same as previous graph)\n",
    "plt.scatter(spliced_coordinate[0][0],spliced_coordinate[0][1])\n",
    "x = spliced_coordinate[:,0]\n",
    "y = spliced_coordinate[:,1]\n",
    "plt.xlim(0,120)\n",
    "plt.ylim(0,120)\n",
    "plt.plot(x,y)\n",
    "plt.scatter(x,y, s=2)\n",
    "plt.title(\"spliced\")"
   ]
  },
  {
   "cell_type": "code",
   "execution_count": 43,
   "metadata": {},
   "outputs": [
    {
     "name": "stdout",
     "output_type": "stream",
     "text": [
      "150\n"
     ]
    }
   ],
   "source": [
    "#create array for each point's speed\n",
    "speed_corresponding_to_spliced_coord = np.linspace(nozzle_v_min,nozzle_v_max,len(spliced_coordinate))\n",
    "#print(speed_corresponding_to_spliced_coord)\n",
    "print(len(speed_corresponding_to_spliced_coord))"
   ]
  },
  {
   "cell_type": "code",
   "execution_count": 44,
   "metadata": {},
   "outputs": [],
   "source": [
    "#gcode writer that will combine coordinate information and speed information\n",
    "def get_gcode_block(position, fillament_speed):\n",
    "    return f\"G1 X{position[0]} Y{position[1]} Z{bed_dist} E{fillament_speed}\"\n",
    "\n",
    "def get_gcode_block_movement_only(position):\n",
    "     return f\"G1 X{position[0]} Y{position[1]} Z{bed_dist}\""
   ]
  },
  {
   "cell_type": "code",
   "execution_count": 45,
   "metadata": {},
   "outputs": [],
   "source": [
    "#create file:\n",
    "file_name = input(\"Enter file name: \")\n",
    "#path = pathlib.Path().resolve()\n",
    "\n",
    "with open(str(file_name) + \".gcode\", \"w\") as f:\n",
    "    #description\n",
    "    f.write(\";File Name: \" + str(file_name))\n",
    "    f.write(\"\\n;Time Generated: \" + str(datetime.today().strftime('%Y-%m-%d %H:%M:%S')))  #get date\n",
    "    f.write(\"\\n;Printer Type: \" + str(printer))\n",
    "    f.write(\"\\n;dimension of product: \" + str(product_width) +\"x\"+ str(product_height) +\" mm\")\n",
    "    f.write(\"\\n;details of product: \" + str(num_groups) +\" groups of \"+ str(line_per_group) +\" lines each\")\n",
    "    f.write(\"\\n;speed increment: \" + str(nozzle_v_min) +\" to \"+ str(nozzle_v_max) +\" mm/min for \" +str(len(speed_corresponding_to_spliced_coord)) +\" pts total\")\n",
    "    #set up\n",
    "    f.write(\"\\n\\n\\n\" + str(positioning))\n",
    "    f.write(\"\\n\" + str(units))\n",
    "    f.write(f\"\\nM83\")\n",
    "    f.write(f\"\\nG28 F{velocity_of_nozzle} Z{bed_dist}\")\n",
    "    \n",
    "\n",
    "    #nozzle stuff:\n",
    "    f.write(f\"\\nSET_HEATER_TEMPERATURE HEATER=extruder TARGET={nozzle_temp}\\nTEMPERATURE_WAIT SENSOR=extruder MINIMUM={nozzle_temp} MAXIMUM={nozzle_temp+10}\\n\")\n",
    "    f.write(f\"M190 S{bed_temp}\\n\\n\")\n",
    "    for i in range(len(spliced_coordinate)):\n",
    "            line = get_gcode_block(spliced_coordinate[i],speed_corresponding_to_spliced_coord[i])\n",
    "            f.write(\"\\n\" + line)\n",
    "    \n",
    "    #ending code here\n",
    "    #f.write(\"\\n\\n\\nM104 T0 S0\\nM140 S0\\nM84\")\n",
    "    f.write(\"\\nM30\\n;end of code\")\n"
   ]
  }
 ],
 "metadata": {
  "kernelspec": {
   "display_name": "Python 3",
   "language": "python",
   "name": "python3"
  },
  "language_info": {
   "codemirror_mode": {
    "name": "ipython",
    "version": 3
   },
   "file_extension": ".py",
   "mimetype": "text/x-python",
   "name": "python",
   "nbconvert_exporter": "python",
   "pygments_lexer": "ipython3",
   "version": "3.10.7"
  }
 },
 "nbformat": 4,
 "nbformat_minor": 2
}
