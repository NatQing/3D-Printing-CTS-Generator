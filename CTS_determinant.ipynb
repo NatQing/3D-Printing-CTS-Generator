{
 "cells": [
  {
   "cell_type": "code",
   "execution_count": 61,
   "metadata": {},
   "outputs": [],
   "source": [
    "#import modules\n",
    "import matplotlib.pyplot as plt, numpy as np, math\n",
    "from matplotlib.patches import Rectangle\n",
    "from datetime import datetime\n",
    "import GUI_test"
   ]
  },
  {
   "cell_type": "code",
   "execution_count": 62,
   "metadata": {},
   "outputs": [
    {
     "name": "stdout",
     "output_type": "stream",
     "text": [
      "-0.6628311159055496\n"
     ]
    }
   ],
   "source": [
    "#constants:\n",
    "\n",
    "HOME = 'G28'        #this is a custom saved location\n",
    "positioning = 'G90' #absolute positioning\n",
    "units = 'G21'       #everything using mm\n",
    "\n",
    "#settings:\n",
    "material = 'PCL'    #purely informational, does not affect printer function\n",
    "printer = 'Voron'   #purely informational\n",
    "nozzle_temp = 230   #C probably depends on material...\n",
    "bed_temp = 35       #C sometimes will get stuck if above 40\n",
    "\n",
    "#platform limits(be aware that it could go over if inaccurate)\n",
    "x_max = 120     #mm\n",
    "y_max = 120     #mm\n",
    "\n",
    "#Line Settings: How wide and tall for the box of lines: in mm\n",
    "product_width = 60  #mm SHOULD NOT BE GREATER THAN X_MAX\n",
    "product_height = 60 #mm SHOULD NOT BE GREATER THAN Y_MAX\n",
    "num_groups = 5     #number of line groups - consecutive lines made with same speed\n",
    "line_per_group = 1  #mm gap between lines of the same line group\n",
    "ratio_of_dxgroup_dxline = 3 #ratio between distance between lines and distance between groups of lines so dxg/dxl\n",
    "\n",
    "#for incrementing pts only:\n",
    "pts_per_line = 5    #mm Choose 1mm if you want each whole line representing one speed.\n",
    "\n",
    "#testing all feeding speeds within range:\n",
    "nozzle_v_min = 0.2      #mm/min\n",
    "nozzle_v_max = 1       #mm/min\n",
    "nozzle_v_cap = 5       #mm/min\n",
    "\n",
    "velocity_of_nozzle = 400    #mm/min\n",
    "velocity_of_nozzle_cap = 800    #mm/min\n",
    "bed_dist = 0.5  #mm\n",
    "\n",
    "\n",
    "collagen = 0    #new material\n",
    "flathead = 0    #new nozzle\n",
    "\n",
    "flathead_nozzle_width = 10   #mm\n",
    "\n",
    "gear_ratio_constant = -8.343 #mm/mm obtained from gear_calc.ipynb\n",
    "cylinder_length_per_volume = 5.53   #obtain from measuring distance between syringe indents mm/ml\n",
    "mm_stepper_per_ml_syringe = cylinder_length_per_volume/gear_ratio_constant  #mm_stepper/ml_syringe\n",
    "print(mm_stepper_per_ml_syringe)"
   ]
  },
  {
   "cell_type": "markdown",
   "metadata": {},
   "source": []
  },
  {
   "cell_type": "code",
   "execution_count": 63,
   "metadata": {},
   "outputs": [
    {
     "name": "stdout",
     "output_type": "stream",
     "text": [
      "Using Local CTS Settings\n",
      "Empty input.\n"
     ]
    }
   ],
   "source": [
    "#trigger GUI\n",
    "#rly rly janky ;-;\n",
    "\n",
    "list = [product_width, product_height, num_groups, line_per_group, nozzle_v_min, nozzle_v_max, velocity_of_nozzle, collagen, flathead]\n",
    "    \n",
    "while(True):\n",
    "    try:\n",
    "        instream = GUI_test.run_GUI()\n",
    "        for index in range(len(instream)):\n",
    "            if(instream[index] != -1):\n",
    "                list[index] = instream[index]\n",
    "    except ValueError:\n",
    "        \"Potential Value Error\"\n",
    "    if(product_height <= y_max and product_width <= x_max and velocity_of_nozzle <= velocity_of_nozzle_cap and nozzle_v_max <= nozzle_v_cap and nozzle_v_min <= nozzle_v_cap):\n",
    "        break\n",
    "\n",
    "product_width, product_height, num_groups, line_per_group, nozzle_v_min, nozzle_v_max, velocity_of_nozzle, collagen, flathead = list\n",
    "    #these r limits"
   ]
  },
  {
   "cell_type": "code",
   "execution_count": 64,
   "metadata": {},
   "outputs": [
    {
     "name": "stdout",
     "output_type": "stream",
     "text": [
      "Distance between lines: 5.0mm\n",
      "Distane between groups: 15.0mm\n"
     ]
    }
   ],
   "source": [
    "#Calculations:\n",
    "dx_line = product_width/(num_groups*(line_per_group-1)+ratio_of_dxgroup_dxline*(num_groups-1))\n",
    "print(f\"Distance between lines: {dx_line}mm\")\n",
    "dx_group = dx_line*ratio_of_dxgroup_dxline\n",
    "print(f\"Distane between groups: {dx_group}mm\")\n",
    "nozzle_dv = (nozzle_v_max-nozzle_v_min)/num_groups   #mm/s\n",
    "\n",
    "if flathead:\n",
    "    line_per_group = 1"
   ]
  },
  {
   "cell_type": "code",
   "execution_count": 65,
   "metadata": {},
   "outputs": [
    {
     "name": "stdout",
     "output_type": "stream",
     "text": [
      "10\n"
     ]
    }
   ],
   "source": [
    "#Coordinate plotting:\n",
    "input_coordinate = []\n",
    "\n",
    "#Get beginning location: gotta find it\n",
    "\n",
    "#use for nxn product\n",
    "def get_coordinate_init_centered():\n",
    "    #always want the product to be centered, cannot go beyond the limit\n",
    "    coord_init = np.array([x_max-product_width,y_max-product_height])/2\n",
    "    return coord_init\n",
    "    \n",
    "#use for all else\n",
    "def get_coordinate_init_cornered():\n",
    "    #will just be lower left corner\n",
    "    return [10,10]\n",
    "\n",
    "if(product_width == product_height):coord_init = get_coordinate_init_centered()\n",
    "else: coord_init = get_coordinate_init_cornered()\n",
    "\n",
    "#generate rough lines, then can populate new coordinate list with linspaced points for increments\n",
    "\n",
    "def find_next_pt(input, viable_opt):\n",
    "    if(input == viable_opt[0]):\n",
    "        return viable_opt[1]\n",
    "    return viable_opt[0]\n",
    "\n",
    "#generating lines w/out increment:\n",
    "input_coordinate.append(coord_init)\n",
    "for group in range(int(num_groups)):\n",
    "    options = [coord_init[1], coord_init[1]+product_height]\n",
    "    for line in range(int(line_per_group)):\n",
    "        \n",
    "        current_x = (input_coordinate[-1])[0]\n",
    "        current_y = (input_coordinate[-1])[1]\n",
    "        next_pt = [current_x,find_next_pt(current_y,options)]\n",
    "        input_coordinate.append(next_pt)\n",
    "        \n",
    "        if line != line_per_group-1:\n",
    "            current_x = (input_coordinate[-1])[0]\n",
    "            current_y = (input_coordinate[-1])[1]\n",
    "            next_pt = [current_x+dx_line, current_y]\n",
    "            input_coordinate.append(next_pt)\n",
    "        \n",
    "    current_x = (input_coordinate[-1])[0]\n",
    "    current_y = (input_coordinate[-1])[1]\n",
    "    if group != num_groups-1:\n",
    "        input_coordinate.append([current_x+dx_group,current_y])\n",
    "\n",
    "input_coordinate = np.array(input_coordinate)\n",
    "#print(input_coordinate)\n",
    "print(len(input_coordinate))"
   ]
  },
  {
   "cell_type": "code",
   "execution_count": 66,
   "metadata": {},
   "outputs": [
    {
     "data": {
      "text/plain": [
       "Text(0.5, 1.0, 'vector form')"
      ]
     },
     "execution_count": 66,
     "metadata": {},
     "output_type": "execute_result"
    },
    {
     "data": {
      "image/png": "[encoded data removed]",
      "text/plain": [
       "<Figure size 640x480 with 1 Axes>"
      ]
     },
     "metadata": {},
     "output_type": "display_data"
    }
   ],
   "source": [
    "#graph points\n",
    "plt.scatter(input_coordinate[0][0],input_coordinate[0][1])\n",
    "x = input_coordinate[:,0]\n",
    "y = input_coordinate[:,1]\n",
    "plt.xlim(0,120)\n",
    "plt.ylim(0,120)\n",
    "plt.plot(x,y)\n",
    "plt.scatter(x,y, s=2)\n",
    "plt.title(\"vector form\")"
   ]
  },
  {
   "cell_type": "code",
   "execution_count": 67,
   "metadata": {},
   "outputs": [
    {
     "name": "stdout",
     "output_type": "stream",
     "text": [
      "Pts: 25\n"
     ]
    }
   ],
   "source": [
    "#incrementize coordinates:\n",
    "spliced_coordinate = np.array([coord_init])\n",
    "list_of_boxes = []\n",
    "\n",
    "def splice_vector_into_pts(xy_init, xy_final, pts_per_line):\n",
    "    result = np.linspace(xy_init,xy_final,pts_per_line)\n",
    "    return result\n",
    "\n",
    "for set in range(0, len(input_coordinate)-1, 2):\n",
    "    spliced_vector = splice_vector_into_pts(input_coordinate[set],input_coordinate[set+1],int(pts_per_line))\n",
    "    spliced_coordinate = np.concatenate((spliced_coordinate,spliced_vector),axis=0)\n",
    "    if(flathead):\n",
    "        box = Rectangle((input_coordinate[set][0]-flathead_nozzle_width/2,input_coordinate[set][1]), (flathead_nozzle_width), (input_coordinate[set+1][1]-input_coordinate[set][1]), facecolor = \"none\", edgecolor = \"red\")\n",
    "        list_of_boxes.append(box)\n",
    "    \n",
    "\n",
    "spliced_coordinate = np.delete(spliced_coordinate,0,0)\n",
    "\n",
    "#print(spliced_coordinate)\n",
    "print(f\"Pts: {len(spliced_coordinate)}\")"
   ]
  },
  {
   "cell_type": "code",
   "execution_count": 68,
   "metadata": {},
   "outputs": [
    {
     "data": {
      "text/plain": [
       "Text(0.5, 1.0, 'spliced')"
      ]
     },
     "execution_count": 68,
     "metadata": {},
     "output_type": "execute_result"
    },
    {
     "data": {
      "image/png": "[encoded data removed]",
      "text/plain": [
       "<Figure size 640x480 with 1 Axes>"
      ]
     },
     "metadata": {},
     "output_type": "display_data"
    }
   ],
   "source": [
    "#graph points of splice (should look the same as previous graph)\n",
    "plt.scatter(spliced_coordinate[0][0],spliced_coordinate[0][1])\n",
    "x = spliced_coordinate[:,0]\n",
    "y = spliced_coordinate[:,1]\n",
    "plt.xlim(0,120)\n",
    "plt.ylim(0,120)\n",
    "plt.plot(x,y)\n",
    "ax = plt.gca()\n",
    "for box in list_of_boxes:\n",
    "    ax.add_patch(box)\n",
    "plt.scatter(x,y, s=2)\n",
    "plt.title(\"spliced\")"
   ]
  },
  {
   "cell_type": "code",
   "execution_count": 69,
   "metadata": {},
   "outputs": [
    {
     "name": "stdout",
     "output_type": "stream",
     "text": [
      "25\n",
      "Material Usage: 0.8mm\n"
     ]
    }
   ],
   "source": [
    "#create array for each point's speed\n",
    "speed_corresponding_to_spliced_coord = np.linspace(nozzle_v_min,nozzle_v_max,len(spliced_coordinate))*mm_stepper_per_ml_syringe\n",
    "#print(speed_corresponding_to_spliced_coord)\n",
    "print(len(speed_corresponding_to_spliced_coord))\n",
    "print(f\"Material Usage: {nozzle_v_max-nozzle_v_min}mm\")"
   ]
  },
  {
   "cell_type": "code",
   "execution_count": 70,
   "metadata": {},
   "outputs": [
    {
     "data": {
      "text/plain": [
       "Text(0.5, 0, 'Distance Traveled [mm]')"
      ]
     },
     "execution_count": 70,
     "metadata": {},
     "output_type": "execute_result"
    },
    {
     "data": {
      "image/png": "[encoded data removed]",
      "text/plain": [
       "<Figure size 640x480 with 1 Axes>"
      ]
     },
     "metadata": {},
     "output_type": "display_data"
    }
   ],
   "source": [
    "#Translate coordinates to distance:\n",
    "\n",
    "distance = [0]\n",
    "distance_traveled = 0\n",
    "extrusion_length = speed_corresponding_to_spliced_coord\n",
    "\n",
    "for index in range(1, len(spliced_coordinate), 1):\n",
    "    distance_traveled += (math.dist(spliced_coordinate[index-1], spliced_coordinate[index]))\n",
    "    distance.append(distance_traveled)\n",
    "\n",
    "plt.plot(distance, extrusion_length)\n",
    "plt.title(f\"Distance and Corresponding Extrusion Speed at {velocity_of_nozzle}mm/s velocity\")\n",
    "plt.ylabel(\"Extrusion Length [mm]\")\n",
    "plt.xlabel(\"Distance Traveled [mm]\")\n",
    "\n",
    "#this depends on if we are using M83 or M82 since if its absolute, the last step will correspond to how much in total is used.\n",
    "#print(f\"Total Material Used(rounded): {round(sum(extrusion_length)*mm_stepper_per_ml_syringe,3)} grams\")"
   ]
  },
  {
   "cell_type": "code",
   "execution_count": 71,
   "metadata": {},
   "outputs": [],
   "source": [
    "#gcode writer that will combine coordinate information and speed information\n",
    "def get_gcode_block(position, fillament_speed):\n",
    "    return f\"G1 X{position[0]} Y{position[1]} Z{bed_dist} E{fillament_speed}\"\n",
    "\n",
    "def get_gcode_block_movement_only(position, filament_speed):\n",
    "     return f\"G1 X{position[0]} Y{position[1]} Z{bed_dist}\""
   ]
  },
  {
   "cell_type": "code",
   "execution_count": 72,
   "metadata": {},
   "outputs": [],
   "source": [
    "#create file:\n",
    "\n",
    "file_name = input(\"Enter file name: \")\n",
    "if(len(file_name) > 1): \n",
    "        with open(str(file_name) + \".gcode\", \"w\") as f:\n",
    "        #description\n",
    "                f.write(\";File Name: \" + str(file_name))\n",
    "                f.write(\"\\n;Time Generated: \" + str(datetime.today().strftime('%Y-%m-%d %H:%M:%S')))  #get date\n",
    "                f.write(\"\\n;Printer Type: \" + str(printer))\n",
    "                f.write(\"\\n;dimension of product: \" + str(product_width) +\"x\"+ str(product_height) +\" mm\")\n",
    "                f.write(\"\\n;details of product: \" + str(num_groups) +\" groups of \"+ str(line_per_group) +\" lines each\")\n",
    "                f.write(\"\\n;speed increment: \" + str(nozzle_v_min) +\" to \"+ str(nozzle_v_max) +\" mm/min for \" +str(len(speed_corresponding_to_spliced_coord)) +\" pts total\")\n",
    "                #set up\n",
    "                f.write(\"\\n\\n\\n\" + str(positioning))\n",
    "                f.write(\"\\n\" + str(units))\n",
    "                f.write(f\"\\nM83\")\n",
    "                f.write(f\"\\nG28 F{velocity_of_nozzle} Z{bed_dist}\")\n",
    "\n",
    "\n",
    "                #nozzle stuff:\n",
    "                if(not collagen):\n",
    "                        f.write(f\"\\nSET_HEATER_TEMPERATURE HEATER=extruder TARGET={nozzle_temp}\\nTEMPERATURE_WAIT SENSOR=extruder MINIMUM={nozzle_temp} MAXIMUM={nozzle_temp+10}\\n\")\n",
    "                        f.write(f\"M190 S{bed_temp}\\n\\n\")\n",
    "                for i in range(len(spliced_coordinate)):\n",
    "                        line = get_gcode_block(spliced_coordinate[i],speed_corresponding_to_spliced_coord[i])\n",
    "                        f.write(\"\\n\" + line)\n",
    "\n",
    "                #ending code here\n",
    "                if(not collagen):\n",
    "                        f.write(\"\\n\\n\\nM104 T0 S0\\nM140 S0\\nM84\")\n",
    "                f.write(\"\\nM30\\n;end of code\")\n"
   ]
  }
 ],
 "metadata": {
  "kernelspec": {
   "display_name": "Python 3",
   "language": "python",
   "name": "python3"
  },
  "language_info": {
   "codemirror_mode": {
    "name": "ipython",
    "version": 3
   },
   "file_extension": ".py",
   "mimetype": "text/x-python",
   "name": "python",
   "nbconvert_exporter": "python",
   "pygments_lexer": "ipython3",
   "version": "3.9.12"
  }
 },
 "nbformat": 4,
 "nbformat_minor": 2
}
