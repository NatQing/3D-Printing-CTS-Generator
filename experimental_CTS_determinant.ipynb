{
 "cells": [
  {
   "cell_type": "code",
   "execution_count": 11,
   "metadata": {},
   "outputs": [],
   "source": [
    "import matplotlib.pyplot as plt, numpy as np, os, pathlib\n",
    "from datetime import datetime\n"
   ]
  },
  {
   "cell_type": "code",
   "execution_count": 12,
   "metadata": {},
   "outputs": [
    {
     "name": "stdout",
     "output_type": "stream",
     "text": [
      "3.5714285714285716\n",
      "7.142857142857143\n"
     ]
    }
   ],
   "source": [
    "#constants:\n",
    "HOME = 'G28'        #this is a custom saved location\n",
    "positioning = 'G90' #absolute positioning\n",
    "units = 'G21'       #everything using mm\n",
    "\n",
    "#settings:\n",
    "feed_rate = float(1)\n",
    "material = 'PCL'\n",
    "printer = 'Voron'\n",
    "nozzle_temp = 230   #C\n",
    "bed_temp = 35       #C sometimes will get stuck if above 40\n",
    "\n",
    "#platform limits(be aware that it could go over if inaccurate)\n",
    "x_max = 120     #mm\n",
    "y_max = 120     #mm\n",
    "\n",
    "#Line Settings: How wide and tall for the box of lines: in mm\n",
    "product_width = 50  #mm SHOULD NOT BE GREATER THAN X_MAX\n",
    "product_height = 50 #mm SHOULD NOT BE GREATER THAN Y_MAX\n",
    "num_groups = 4     #number of line groups - consecutive lines made with same speed\n",
    "line_per_group = 3  #mm gap between lines of the same line group\n",
    "ratio_of_dxgroup_dxline = 2 #ratio between distance between lines and distance between groups of lines so dxg/dxl\n",
    "dx_line = product_width/(num_groups*(line_per_group-1)+ratio_of_dxgroup_dxline*(num_groups-1))\n",
    "print(dx_line)\n",
    "dx_group = dx_line*ratio_of_dxgroup_dxline\n",
    "print(dx_group)\n",
    "\n",
    "#for incrementing pts only:\n",
    "pts_per_line = 5    #mm\n",
    "\n",
    "#testing all feeding speeds within range:\n",
    "nozzle_v_min = 1      #mm/min\n",
    "nozzle_v_max = 8       #mm/min\n",
    "nozzle_dv = (nozzle_v_max-nozzle_v_min)/num_groups   #mm/s\n",
    "\n",
    "velocity_of_nozzle = 400    #mm^2/min\n",
    "bed_dist = 0.5  #mm\n",
    "\n",
    "#UNUSED EXPERIMENTAL STUFF:\n",
    "#if u do pressure instead:\n",
    "ejection_p_min = 1      #\n",
    "ejection_p_max = 5      #\n",
    "ejection_dp = (ejection_p_max-ejection_p_min)/num_groups #\n",
    "\n",
    "#attempt to calculate critical translation speed:\n",
    "initital_fiber_dia = 1.0  #mm\n",
    "final_fiber_dia = initital_fiber_dia*pow(nozzle_v_min/nozzle_dv, 0.5)\n",
    "#final_fiber_dia = initital_fiber_dia*pow(ejection_p_min/ejection_dp, 0.5)"
   ]
  },
  {
   "cell_type": "code",
   "execution_count": 13,
   "metadata": {},
   "outputs": [],
   "source": [
    "#calculate "
   ]
  },
  {
   "cell_type": "code",
   "execution_count": 14,
   "metadata": {},
   "outputs": [
    {
     "name": "stdout",
     "output_type": "stream",
     "text": [
      "[[35.         35.        ]\n",
      " [35.         85.        ]\n",
      " [38.57142857 85.        ]\n",
      " [38.57142857 35.        ]\n",
      " [42.14285714 35.        ]\n",
      " [42.14285714 85.        ]\n",
      " [49.28571429 85.        ]\n",
      " [49.28571429 35.        ]\n",
      " [52.85714286 35.        ]\n",
      " [52.85714286 85.        ]\n",
      " [56.42857143 85.        ]\n",
      " [56.42857143 35.        ]\n",
      " [63.57142857 35.        ]\n",
      " [63.57142857 85.        ]\n",
      " [67.14285714 85.        ]\n",
      " [67.14285714 35.        ]\n",
      " [70.71428571 35.        ]\n",
      " [70.71428571 85.        ]\n",
      " [77.85714286 85.        ]\n",
      " [77.85714286 35.        ]\n",
      " [81.42857143 35.        ]\n",
      " [81.42857143 85.        ]\n",
      " [85.         85.        ]\n",
      " [85.         35.        ]]\n",
      "24\n"
     ]
    }
   ],
   "source": [
    "#Coordinate plotting:\n",
    "input_coordinate = []\n",
    "\n",
    "#Get beginning location: gotta find it\n",
    "\n",
    "#use for nxn product\n",
    "def get_coordinate_init_centered():\n",
    "    #always want the product to be centered, cannot go beyond the limit\n",
    "    coord_init = np.array([x_max-product_width,y_max-product_height])/2\n",
    "    return coord_init\n",
    "    \n",
    "#use for all else\n",
    "def get_coordinate_init_cornered():\n",
    "    #will just be lower left corner\n",
    "    return [10,10]\n",
    "\n",
    "if(product_width == product_height):coord_init = get_coordinate_init_centered()\n",
    "else: coord_init = get_coordinate_init_cornered()\n",
    "\n",
    "#generate rough lines, then can populate new coordinate list with linspaced points for increments\n",
    "\n",
    "def find_next_pt(input, viable_opt):\n",
    "    if(input == viable_opt[0]):\n",
    "        return viable_opt[1]\n",
    "    return viable_opt[0]\n",
    "\n",
    "#generating lines w/out increment:\n",
    "input_coordinate.append(coord_init)\n",
    "for group in range(num_groups):\n",
    "    options = [coord_init[1], coord_init[1]+product_height]\n",
    "    for line in range(line_per_group):\n",
    "        \n",
    "        current_x = (input_coordinate[-1])[0]\n",
    "        current_y = (input_coordinate[-1])[1]\n",
    "        next_pt = [current_x,find_next_pt(current_y,options)]\n",
    "        input_coordinate.append(next_pt)\n",
    "        \n",
    "        if line != line_per_group-1:\n",
    "            current_x = (input_coordinate[-1])[0]\n",
    "            current_y = (input_coordinate[-1])[1]\n",
    "            next_pt = [current_x+dx_line, current_y]\n",
    "            input_coordinate.append(next_pt)\n",
    "        \n",
    "    current_x = (input_coordinate[-1])[0]\n",
    "    current_y = (input_coordinate[-1])[1]\n",
    "    if group != num_groups-1:\n",
    "        input_coordinate.append([current_x+dx_group,current_y])\n",
    "\n",
    "input_coordinate = np.array(input_coordinate)\n",
    "print(input_coordinate)\n",
    "print(len(input_coordinate))"
   ]
  },
  {
   "cell_type": "code",
   "execution_count": 15,
   "metadata": {},
   "outputs": [
    {
     "data": {
      "text/plain": [
       "Text(0.5, 1.0, 'vector form')"
      ]
     },
     "execution_count": 15,
     "metadata": {},
     "output_type": "execute_result"
    },
    {
     "data": {
      "image/png": "[encoded data removed]",
      "text/plain": [
       "<Figure size 640x480 with 1 Axes>"
      ]
     },
     "metadata": {},
     "output_type": "display_data"
    }
   ],
   "source": [
    "#graph points\n",
    "plt.scatter(input_coordinate[0][0],input_coordinate[0][1])\n",
    "x = input_coordinate[:,0]\n",
    "y = input_coordinate[:,1]\n",
    "plt.xlim(0,120)\n",
    "plt.ylim(0,120)\n",
    "plt.plot(x,y)\n",
    "plt.scatter(x,y, s=2)\n",
    "plt.title(\"vector form\")"
   ]
  },
  {
   "cell_type": "code",
   "execution_count": 16,
   "metadata": {},
   "outputs": [
    {
     "name": "stdout",
     "output_type": "stream",
     "text": [
      "Should be 24-1 * 100: 115\n"
     ]
    }
   ],
   "source": [
    "spliced_coordinate = np.array([coord_init])\n",
    "\n",
    "#incrementize coordinates:\n",
    "def splice_vector_into_pts(xy_init, xy_final, pts_per_line):\n",
    "    result = np.linspace(xy_init,xy_final,pts_per_line)\n",
    "    return result\n",
    "\n",
    "for set in range(len(input_coordinate)-1):\n",
    "    spliced_vector = splice_vector_into_pts(input_coordinate[set],input_coordinate[set+1],pts_per_line)\n",
    "    spliced_coordinate = np.concatenate((spliced_coordinate,spliced_vector),axis=0)\n",
    "\n",
    "spliced_coordinate = np.delete(spliced_coordinate,0,0)\n",
    "\n",
    "#print(spliced_coordinate)\n",
    "print(f\"Should be {len(input_coordinate)}-1 * 100: {len(spliced_coordinate)}\")"
   ]
  },
  {
   "cell_type": "code",
   "execution_count": 17,
   "metadata": {},
   "outputs": [
    {
     "data": {
      "text/plain": [
       "Text(0.5, 1.0, 'spliced')"
      ]
     },
     "execution_count": 17,
     "metadata": {},
     "output_type": "execute_result"
    },
    {
     "data": {
      "image/png": "[encoded data removed]",
      "text/plain": [
       "<Figure size 640x480 with 1 Axes>"
      ]
     },
     "metadata": {},
     "output_type": "display_data"
    }
   ],
   "source": [
    "#graph points of splice (should look the same as previous graph)\n",
    "plt.scatter(spliced_coordinate[0][0],spliced_coordinate[0][1])\n",
    "x = spliced_coordinate[:,0]\n",
    "y = spliced_coordinate[:,1]\n",
    "plt.xlim(0,120)\n",
    "plt.ylim(0,120)\n",
    "plt.plot(x,y)\n",
    "plt.scatter(x,y, s=2)\n",
    "plt.title(\"spliced\")"
   ]
  },
  {
   "cell_type": "code",
   "execution_count": 18,
   "metadata": {},
   "outputs": [
    {
     "name": "stdout",
     "output_type": "stream",
     "text": [
      "115\n"
     ]
    }
   ],
   "source": [
    "#create array for each point's speed\n",
    "speed_corresponding_to_spliced_coord = np.linspace(nozzle_v_min,nozzle_v_max,len(spliced_coordinate))\n",
    "#print(speed_corresponding_to_spliced_coord)\n",
    "print(len(speed_corresponding_to_spliced_coord))"
   ]
  },
  {
   "cell_type": "code",
   "execution_count": 19,
   "metadata": {},
   "outputs": [],
   "source": [
    "#gcode writer that will combine coordinate information and speed information\n",
    "def get_gcode_block(position, fillament_speed):\n",
    "    return f\"G1 X{position[0]} Y{position[1]} Z{bed_dist} E{fillament_speed}\"\n",
    "\n",
    "def get_gcode_block_movement_only(position):\n",
    "     return f\"G1 X{position[0]} Y{position[1]} Z{bed_dist}\""
   ]
  },
  {
   "cell_type": "code",
   "execution_count": 20,
   "metadata": {},
   "outputs": [
    {
     "name": "stdout",
     "output_type": "stream",
     "text": [
      "G0 X35.0 Y35.0 Z0.5\n"
     ]
    }
   ],
   "source": [
    "if(input(\"Create File? (y/n)\") == \"y\"):\n",
    "    \n",
    "    write_nozzle_code = False\n",
    "    if(input(\"Write Nozzel Code? (y/n)\") == \"y\"): write_nozzle_code = True\n",
    "    \n",
    "    #create file:\n",
    "    file_name = input(\"Enter file name: \")\n",
    "    #path = pathlib.Path().resolve()\n",
    "\n",
    "    with open(str(file_name) + \".gcode\", \"w\") as f:\n",
    "        #description\n",
    "        f.write(\";File Name: \" + str(file_name))\n",
    "        f.write(\"\\n;Time Generated: \" + str(datetime.today().strftime('%Y-%m-%d %H:%M:%S')))  #get date\n",
    "        f.write(\"\\n;Printer Type: \" + str(printer))\n",
    "        f.write(\"\\n;dimension of product: \" + str(product_width) +\"x\"+ str(product_height) +\" mm\")\n",
    "        f.write(\"\\n;details of product: \" + str(num_groups) +\" groups of \"+ str(line_per_group) +\" lines each\")\n",
    "        f.write(\"\\n;speed increment: \" + str(nozzle_v_min) +\" to \"+ str(nozzle_v_max) +\" mm/min for \" +str(len(speed_corresponding_to_spliced_coord)) +\" pts total\")\n",
    "        #set up\n",
    "        f.write(\"\\n\\n\\n\" + str(positioning))\n",
    "        f.write(\"\\n\" + str(units))\n",
    "        f.write(f\"\\nM83\")\n",
    "        f.write(f\"\\nG28 F{velocity_of_nozzle} Z{bed_dist}\")\n",
    "        \n",
    "        if(write_nozzle_code == 0): f.write(\"\\n;selected movement only\")\n",
    "        else:\n",
    "            #nozzle stuff:\n",
    "            f.write(f\"\\nSET_HEATER_TEMPERATURE HEATER=extruder TARGET={nozzle_temp}\\nTEMPERATURE_WAIT SENSOR=extruder MINIMUM={nozzle_temp} MAXIMUM={nozzle_temp+10}\\n\")\n",
    "            f.write(f\"M190 S{bed_temp}\\n\\n\")\n",
    "            f.write(f\"G0 X{spliced_coordinate[0][0]} Y{spliced_coordinate[0][1]} Z{bed_dist}\")\n",
    "            print(f\"G0 X{spliced_coordinate[0][0]} Y{spliced_coordinate[0][1]} Z{bed_dist}\")\n",
    "        for i in range(len(spliced_coordinate)):\n",
    "            if(write_nozzle_code):\n",
    "                line = get_gcode_block(spliced_coordinate[i], speed_corresponding_to_spliced_coord[i])\n",
    "            else:\n",
    "                line = get_gcode_block_movement_only(spliced_coordinate[i])\n",
    "            f.write(\"\\n\" + line)\n",
    "        \n",
    "        #ending code here\n",
    "        #f.write(\"\\n\\n\\nM104 T0 S0\\nM140 S0\\nM84\")\n",
    "        f.write(\"\\nM30\\n;end of code\")\n",
    "    "
   ]
  }
 ],
 "metadata": {
  "kernelspec": {
   "display_name": "Python 3",
   "language": "python",
   "name": "python3"
  },
  "language_info": {
   "codemirror_mode": {
    "name": "ipython",
    "version": 3
   },
   "file_extension": ".py",
   "mimetype": "text/x-python",
   "name": "python",
   "nbconvert_exporter": "python",
   "pygments_lexer": "ipython3",
   "version": "3.10.7"
  }
 },
 "nbformat": 4,
 "nbformat_minor": 2
}
