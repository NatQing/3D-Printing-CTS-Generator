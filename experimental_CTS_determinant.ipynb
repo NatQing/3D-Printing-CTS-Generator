{
 "cells": [
  {
   "cell_type": "code",
   "execution_count": 1178,
   "metadata": {},
   "outputs": [],
   "source": [
    "import matplotlib.pyplot as plt, numpy as np, os, pathlib\n",
    "from datetime import datetime\n"
   ]
  },
  {
   "cell_type": "code",
   "execution_count": 1179,
   "metadata": {},
   "outputs": [
    {
     "name": "stdout",
     "output_type": "stream",
     "text": [
      "1.509433962264151\n",
      "3.018867924528302\n"
     ]
    }
   ],
   "source": [
    "#constants:\n",
    "HOME = 'G28'        #this is a custom saved location\n",
    "positioning = 'G90' #absolute positioning\n",
    "units = 'G21'       #everything using mm\n",
    "\n",
    "#settings:\n",
    "feed_rate = float(1)\n",
    "material = 'PCL'\n",
    "printer = 'Aero'\n",
    "\n",
    "#platform limits(be aware that it could go over if inaccurate)\n",
    "x_max = 120     #mm\n",
    "y_max = 120     #mm\n",
    "\n",
    "#Line Settings: How wide and tall for the box of lines: in mm\n",
    "product_width = 80  #mm\n",
    "product_height = 40 #mm\n",
    "num_groups = 5     #number of line groups - consecutive lines made with same speed\n",
    "line_per_group = 10  #mm gap between lines of the same line group\n",
    "ratio_of_dxgroup_dxline = 2 #ratio between distance between lines and distance between groups of lines so dxg/dxl\n",
    "dx_line = product_width/(num_groups*(line_per_group-1)+ratio_of_dxgroup_dxline*(num_groups-1))\n",
    "print(dx_line)\n",
    "dx_group = dx_line*ratio_of_dxgroup_dxline\n",
    "print(dx_group)\n",
    "\n",
    "#for incrementing pts only:\n",
    "pts_per_line = 10    #mm\n",
    "\n",
    "#testing all speeds within range:\n",
    "nozzle_v_min = 10       #mm/s\n",
    "nozzle_v_max = 100      #mm/s\n",
    "nozzle_dv = (nozzle_v_max-nozzle_v_min)/num_groups   #mm/s\n",
    "\n",
    "#UNUSED EXPERIMENTAL STUFF:\n",
    "#if u do pressure instead:\n",
    "ejection_p_min = 1      #\n",
    "ejection_p_max = 5      #\n",
    "ejection_dp = (ejection_p_max-ejection_p_min)/num_groups #\n",
    "\n",
    "#attempt to calculate critical translation speed:\n",
    "initital_fiber_dia = 1.0  #mm\n",
    "final_fiber_dia = initital_fiber_dia*pow(nozzle_v_min/nozzle_dv, 0.5)\n",
    "#final_fiber_dia = initital_fiber_dia*pow(ejection_p_min/ejection_dp, 0.5)"
   ]
  },
  {
   "cell_type": "code",
   "execution_count": 1180,
   "metadata": {},
   "outputs": [],
   "source": [
    "#calculate "
   ]
  },
  {
   "cell_type": "code",
   "execution_count": 1181,
   "metadata": {},
   "outputs": [
    {
     "name": "stdout",
     "output_type": "stream",
     "text": [
      "[[10.         10.        ]\n",
      " [10.         50.        ]\n",
      " [11.50943396 50.        ]\n",
      " [11.50943396 10.        ]\n",
      " [13.01886792 10.        ]\n",
      " [13.01886792 50.        ]\n",
      " [14.52830189 50.        ]\n",
      " [14.52830189 10.        ]\n",
      " [16.03773585 10.        ]\n",
      " [16.03773585 50.        ]\n",
      " [17.54716981 50.        ]\n",
      " [17.54716981 10.        ]\n",
      " [19.05660377 10.        ]\n",
      " [19.05660377 50.        ]\n",
      " [20.56603774 50.        ]\n",
      " [20.56603774 10.        ]\n",
      " [22.0754717  10.        ]\n",
      " [22.0754717  50.        ]\n",
      " [23.58490566 50.        ]\n",
      " [23.58490566 10.        ]\n",
      " [26.60377358 10.        ]\n",
      " [26.60377358 50.        ]\n",
      " [28.11320755 50.        ]\n",
      " [28.11320755 10.        ]\n",
      " [29.62264151 10.        ]\n",
      " [29.62264151 50.        ]\n",
      " [31.13207547 50.        ]\n",
      " [31.13207547 10.        ]\n",
      " [32.64150943 10.        ]\n",
      " [32.64150943 50.        ]\n",
      " [34.1509434  50.        ]\n",
      " [34.1509434  10.        ]\n",
      " [35.66037736 10.        ]\n",
      " [35.66037736 50.        ]\n",
      " [37.16981132 50.        ]\n",
      " [37.16981132 10.        ]\n",
      " [38.67924528 10.        ]\n",
      " [38.67924528 50.        ]\n",
      " [40.18867925 50.        ]\n",
      " [40.18867925 10.        ]\n",
      " [43.20754717 10.        ]\n",
      " [43.20754717 50.        ]\n",
      " [44.71698113 50.        ]\n",
      " [44.71698113 10.        ]\n",
      " [46.22641509 10.        ]\n",
      " [46.22641509 50.        ]\n",
      " [47.73584906 50.        ]\n",
      " [47.73584906 10.        ]\n",
      " [49.24528302 10.        ]\n",
      " [49.24528302 50.        ]\n",
      " [50.75471698 50.        ]\n",
      " [50.75471698 10.        ]\n",
      " [52.26415094 10.        ]\n",
      " [52.26415094 50.        ]\n",
      " [53.77358491 50.        ]\n",
      " [53.77358491 10.        ]\n",
      " [55.28301887 10.        ]\n",
      " [55.28301887 50.        ]\n",
      " [56.79245283 50.        ]\n",
      " [56.79245283 10.        ]\n",
      " [59.81132075 10.        ]\n",
      " [59.81132075 50.        ]\n",
      " [61.32075472 50.        ]\n",
      " [61.32075472 10.        ]\n",
      " [62.83018868 10.        ]\n",
      " [62.83018868 50.        ]\n",
      " [64.33962264 50.        ]\n",
      " [64.33962264 10.        ]\n",
      " [65.8490566  10.        ]\n",
      " [65.8490566  50.        ]\n",
      " [67.35849057 50.        ]\n",
      " [67.35849057 10.        ]\n",
      " [68.86792453 10.        ]\n",
      " [68.86792453 50.        ]\n",
      " [70.37735849 50.        ]\n",
      " [70.37735849 10.        ]\n",
      " [71.88679245 10.        ]\n",
      " [71.88679245 50.        ]\n",
      " [73.39622642 50.        ]\n",
      " [73.39622642 10.        ]\n",
      " [76.41509434 10.        ]\n",
      " [76.41509434 50.        ]\n",
      " [77.9245283  50.        ]\n",
      " [77.9245283  10.        ]\n",
      " [79.43396226 10.        ]\n",
      " [79.43396226 50.        ]\n",
      " [80.94339623 50.        ]\n",
      " [80.94339623 10.        ]\n",
      " [82.45283019 10.        ]\n",
      " [82.45283019 50.        ]\n",
      " [83.96226415 50.        ]\n",
      " [83.96226415 10.        ]\n",
      " [85.47169811 10.        ]\n",
      " [85.47169811 50.        ]\n",
      " [86.98113208 50.        ]\n",
      " [86.98113208 10.        ]\n",
      " [88.49056604 10.        ]\n",
      " [88.49056604 50.        ]\n",
      " [90.         50.        ]\n",
      " [90.         10.        ]]\n",
      "100\n"
     ]
    }
   ],
   "source": [
    "#Coordinate plotting:\n",
    "input_coordinate = []\n",
    "\n",
    "#Get beginning location: gotta find it\n",
    "\n",
    "#use for nxn product\n",
    "def get_coordinate_init_centered():\n",
    "    #always want the product to be centered, cannot go beyond the limit\n",
    "    coord_init = np.array([x_max-product_width,y_max-product_height])/2\n",
    "    return coord_init\n",
    "    \n",
    "#use for all else\n",
    "def get_coordinate_init_cornered():\n",
    "    #will just be lower left corner\n",
    "    return [10,10]\n",
    "\n",
    "if(product_width == product_height):coord_init = get_coordinate_init_centered()\n",
    "else: coord_init = get_coordinate_init_cornered()\n",
    "\n",
    "#generate rough lines, then can populate new coordinate list with linspaced points for increments\n",
    "\n",
    "def find_next_pt(input, viable_opt):\n",
    "    if(input == viable_opt[0]):\n",
    "        return viable_opt[1]\n",
    "    return viable_opt[0]\n",
    "\n",
    "#generating lines w/out increment:\n",
    "input_coordinate.append(coord_init)\n",
    "for group in range(num_groups):\n",
    "    options = [coord_init[1], coord_init[1]+product_height]\n",
    "    for line in range(line_per_group):\n",
    "        \n",
    "        current_x = (input_coordinate[-1])[0]\n",
    "        current_y = (input_coordinate[-1])[1]\n",
    "        next_pt = [current_x,find_next_pt(current_y,options)]\n",
    "        input_coordinate.append(next_pt)\n",
    "        \n",
    "        if line != line_per_group-1:\n",
    "            current_x = (input_coordinate[-1])[0]\n",
    "            current_y = (input_coordinate[-1])[1]\n",
    "            next_pt = [current_x+dx_line, current_y]\n",
    "            input_coordinate.append(next_pt)\n",
    "        \n",
    "    current_x = (input_coordinate[-1])[0]\n",
    "    current_y = (input_coordinate[-1])[1]\n",
    "    if group != num_groups-1:\n",
    "        input_coordinate.append([current_x+dx_group,current_y])\n",
    "\n",
    "input_coordinate = np.array(input_coordinate)\n",
    "print(input_coordinate)\n",
    "print(len(input_coordinate))"
   ]
  },
  {
   "cell_type": "code",
   "execution_count": 1182,
   "metadata": {},
   "outputs": [
    {
     "data": {
      "text/plain": [
       "Text(0.5, 1.0, 'vector form')"
      ]
     },
     "execution_count": 1182,
     "metadata": {},
     "output_type": "execute_result"
    },
    {
     "data": {
      "image/png": "[encoded data removed]",
      "text/plain": [
       "<Figure size 640x480 with 1 Axes>"
      ]
     },
     "metadata": {},
     "output_type": "display_data"
    }
   ],
   "source": [
    "#graph points\n",
    "plt.scatter(input_coordinate[0][0],input_coordinate[0][1])\n",
    "x = input_coordinate[:,0]\n",
    "y = input_coordinate[:,1]\n",
    "plt.xlim(0,120)\n",
    "plt.ylim(0,120)\n",
    "plt.plot(x,y)\n",
    "plt.title(\"vector form\")"
   ]
  },
  {
   "cell_type": "code",
   "execution_count": 1183,
   "metadata": {},
   "outputs": [
    {
     "name": "stdout",
     "output_type": "stream",
     "text": [
      "990\n"
     ]
    }
   ],
   "source": [
    "spliced_coordinate = np.array([coord_init])\n",
    "\n",
    "#incrementize coordinates:\n",
    "def splice_vector_into_pts(xy_init, xy_final, pts_per_line):\n",
    "    result = np.linspace(xy_init,xy_final,pts_per_line)\n",
    "    return result\n",
    "\n",
    "for set in range(len(input_coordinate)-1):\n",
    "    spliced_vector = splice_vector_into_pts(input_coordinate[set],input_coordinate[set+1],pts_per_line)\n",
    "    spliced_coordinate = np.concatenate((spliced_coordinate,spliced_vector),axis=0)\n",
    "\n",
    "spliced_coordinate = np.delete(spliced_coordinate,0,0)\n",
    "\n",
    "#print(spliced_coordinate)\n",
    "print(len(spliced_coordinate))"
   ]
  },
  {
   "cell_type": "code",
   "execution_count": 1184,
   "metadata": {},
   "outputs": [
    {
     "data": {
      "text/plain": [
       "Text(0.5, 1.0, 'spliced')"
      ]
     },
     "execution_count": 1184,
     "metadata": {},
     "output_type": "execute_result"
    },
    {
     "data": {
      "image/png": "[encoded data removed]",
      "text/plain": [
       "<Figure size 640x480 with 1 Axes>"
      ]
     },
     "metadata": {},
     "output_type": "display_data"
    }
   ],
   "source": [
    "#graph points of splice (should look the same as previous graph)\n",
    "plt.scatter(spliced_coordinate[0][0],spliced_coordinate[0][1])\n",
    "x = spliced_coordinate[:,0]\n",
    "y = spliced_coordinate[:,1]\n",
    "plt.xlim(0,120)\n",
    "plt.ylim(0,120)\n",
    "plt.plot(x,y)\n",
    "plt.title(\"spliced\")"
   ]
  },
  {
   "cell_type": "code",
   "execution_count": 1185,
   "metadata": {},
   "outputs": [
    {
     "name": "stdout",
     "output_type": "stream",
     "text": [
      "990\n"
     ]
    }
   ],
   "source": [
    "#create array for each point's speed\n",
    "speed_corresponding_to_spliced_coord = np.linspace(nozzle_v_min,nozzle_v_max,len(spliced_coordinate))*60 #turns it into mm/s otherwise is mm/min\n",
    "#print(speed_corresponding_to_spliced_coord)\n",
    "print(len(speed_corresponding_to_spliced_coord))"
   ]
  },
  {
   "cell_type": "code",
   "execution_count": 1186,
   "metadata": {},
   "outputs": [],
   "source": [
    "#gcode writer that will combine coordinate information and speed information\n",
    "def get_gcode_block(position, speed):\n",
    "    return \"G1 X{position[0]} Y{position[1]} F{speed}\".format(position, speed)\n",
    "\n",
    "def get_gcode_block_movement_only(position):\n",
    "     return \"G1 X\" + str(position[0])+ \" Y\" + str(position[1])"
   ]
  },
  {
   "cell_type": "code",
   "execution_count": 1187,
   "metadata": {},
   "outputs": [],
   "source": [
    "if(input(\"Create File? (y/n)\") == \"y\"):\n",
    "    \n",
    "    write_nozzle_code = False\n",
    "    if(input(\"Write Nozzel Code? (y/n)\") == \"y\"): write_nozzle_code = True\n",
    "    \n",
    "    #create file:\n",
    "    file_name = input(\"Enter file name: \")\n",
    "    #path = pathlib.Path().resolve()\n",
    "\n",
    "    with open(str(file_name) + \".gcode\", \"w\") as f:\n",
    "        #description\n",
    "        f.write(\";File Name: \" + str(file_name))\n",
    "        f.write(\"\\n;Time Generated: \" + str(datetime.today().strftime('%Y-%m-%d %H:%M:%S')))  #get date\n",
    "        f.write(\"\\n;Printer Type: \" + str(printer))\n",
    "        #set up\n",
    "        f.write(\"\\n\\n\\n\" + str(positioning))\n",
    "        f.write(\"\\n\" + str(units))\n",
    "        f.write(\"\\n\" + str(HOME) + \"\\n\")\n",
    "        \n",
    "        if(write_nozzle_code == 0): f.write(\"\\n;selected movement only\")\n",
    "        for i in range(len(spliced_coordinate)):\n",
    "            if(write_nozzle_code):\n",
    "                #include preheat code here\n",
    "                f.write(\"\\nM190 S60\\nM104 S200\\nM109 S200\\nM82\\n\\n\")\n",
    "                line = get_gcode_block(spliced_coordinate[i], speed_corresponding_to_spliced_coord[i])\n",
    "            else:\n",
    "                line = get_gcode_block_movement_only(spliced_coordinate[i])\n",
    "            f.write(\"\\n\" + line)\n",
    "        \n",
    "        #ending code here\n",
    "        f.write(\"\\n\\n\\nM104 T0 S0\\nM140 S0\\nM84\\nM30\")\n",
    "        f.write(\"\\n;end of code\")\n",
    "    "
   ]
  }
 ],
 "metadata": {
  "kernelspec": {
   "display_name": "Python 3",
   "language": "python",
   "name": "python3"
  },
  "language_info": {
   "codemirror_mode": {
    "name": "ipython",
    "version": 3
   },
   "file_extension": ".py",
   "mimetype": "text/x-python",
   "name": "python",
   "nbconvert_exporter": "python",
   "pygments_lexer": "ipython3",
   "version": "3.10.7"
  }
 },
 "nbformat": 4,
 "nbformat_minor": 2
}
